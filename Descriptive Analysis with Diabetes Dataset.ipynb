{
 "cells": [
  {
   "cell_type": "markdown",
   "id": "b67f247f-eac6-4a4e-8c5f-5e1506b51833",
   "metadata": {},
   "source": [
    "# DESCRIPTIVE ANALYSIS WITH DIABETES DATASET"
   ]
  },
  {
   "cell_type": "code",
   "execution_count": 1,
   "id": "a99ebcd8-1f5e-44c2-a95a-75cc8415833b",
   "metadata": {},
   "outputs": [],
   "source": [
    "# you first import the appropraite libraries for your analysis\n",
    "import pandas as pd\n",
    "import numpy as np\n",
    "import seaborn as sns\n",
    "import matplotlib.pyplot as plt"
   ]
  },
  {
   "cell_type": "code",
   "execution_count": 2,
   "id": "4241e57f-0098-4dd7-ae1a-eb20cb01d076",
   "metadata": {},
   "outputs": [],
   "source": [
    "# You then load your CSV or excel dataset from the appropriate location. \n",
    "\n",
    "Pima=pd.read_csv(\"diabetes.csv\")\n"
   ]
  },
  {
   "cell_type": "markdown",
   "id": "9f8ad249-6c8c-4416-8315-d321ea80d067",
   "metadata": {},
   "source": [
    "# Q1. SHOW THE FIRST 10 RECORDS OF THE DATASET"
   ]
  },
  {
   "cell_type": "code",
   "execution_count": 14,
   "id": "d801ce13-5272-4d61-8941-1dcaa9897c92",
   "metadata": {},
   "outputs": [
    {
     "data": {
      "text/html": [
       "<div>\n",
       "<style scoped>\n",
       "    .dataframe tbody tr th:only-of-type {\n",
       "        vertical-align: middle;\n",
       "    }\n",
       "\n",
       "    .dataframe tbody tr th {\n",
       "        vertical-align: top;\n",
       "    }\n",
       "\n",
       "    .dataframe thead th {\n",
       "        text-align: right;\n",
       "    }\n",
       "</style>\n",
       "<table border=\"1\" class=\"dataframe\">\n",
       "  <thead>\n",
       "    <tr style=\"text-align: right;\">\n",
       "      <th></th>\n",
       "      <th>Pregnancies</th>\n",
       "      <th>Glucose</th>\n",
       "      <th>BloodPressure</th>\n",
       "      <th>SkinThickness</th>\n",
       "      <th>Insulin</th>\n",
       "      <th>BMI</th>\n",
       "      <th>DiabetesPedigreeFunction</th>\n",
       "      <th>Age</th>\n",
       "      <th>Outcome</th>\n",
       "    </tr>\n",
       "  </thead>\n",
       "  <tbody>\n",
       "    <tr>\n",
       "      <th>0</th>\n",
       "      <td>6</td>\n",
       "      <td>148</td>\n",
       "      <td>72</td>\n",
       "      <td>35</td>\n",
       "      <td>79</td>\n",
       "      <td>33.600000</td>\n",
       "      <td>0.627</td>\n",
       "      <td>50</td>\n",
       "      <td>1</td>\n",
       "    </tr>\n",
       "    <tr>\n",
       "      <th>1</th>\n",
       "      <td>1</td>\n",
       "      <td>85</td>\n",
       "      <td>66</td>\n",
       "      <td>29</td>\n",
       "      <td>79</td>\n",
       "      <td>26.600000</td>\n",
       "      <td>0.351</td>\n",
       "      <td>31</td>\n",
       "      <td>0</td>\n",
       "    </tr>\n",
       "    <tr>\n",
       "      <th>2</th>\n",
       "      <td>8</td>\n",
       "      <td>183</td>\n",
       "      <td>64</td>\n",
       "      <td>20</td>\n",
       "      <td>79</td>\n",
       "      <td>23.300000</td>\n",
       "      <td>0.672</td>\n",
       "      <td>32</td>\n",
       "      <td>1</td>\n",
       "    </tr>\n",
       "    <tr>\n",
       "      <th>3</th>\n",
       "      <td>1</td>\n",
       "      <td>89</td>\n",
       "      <td>66</td>\n",
       "      <td>23</td>\n",
       "      <td>94</td>\n",
       "      <td>28.100000</td>\n",
       "      <td>0.167</td>\n",
       "      <td>21</td>\n",
       "      <td>0</td>\n",
       "    </tr>\n",
       "    <tr>\n",
       "      <th>4</th>\n",
       "      <td>0</td>\n",
       "      <td>137</td>\n",
       "      <td>40</td>\n",
       "      <td>35</td>\n",
       "      <td>168</td>\n",
       "      <td>43.100000</td>\n",
       "      <td>2.288</td>\n",
       "      <td>33</td>\n",
       "      <td>1</td>\n",
       "    </tr>\n",
       "    <tr>\n",
       "      <th>5</th>\n",
       "      <td>5</td>\n",
       "      <td>116</td>\n",
       "      <td>74</td>\n",
       "      <td>20</td>\n",
       "      <td>79</td>\n",
       "      <td>25.600000</td>\n",
       "      <td>0.201</td>\n",
       "      <td>30</td>\n",
       "      <td>0</td>\n",
       "    </tr>\n",
       "    <tr>\n",
       "      <th>6</th>\n",
       "      <td>3</td>\n",
       "      <td>78</td>\n",
       "      <td>50</td>\n",
       "      <td>32</td>\n",
       "      <td>88</td>\n",
       "      <td>31.000000</td>\n",
       "      <td>0.248</td>\n",
       "      <td>26</td>\n",
       "      <td>1</td>\n",
       "    </tr>\n",
       "    <tr>\n",
       "      <th>7</th>\n",
       "      <td>10</td>\n",
       "      <td>115</td>\n",
       "      <td>69</td>\n",
       "      <td>20</td>\n",
       "      <td>79</td>\n",
       "      <td>35.300000</td>\n",
       "      <td>0.134</td>\n",
       "      <td>29</td>\n",
       "      <td>0</td>\n",
       "    </tr>\n",
       "    <tr>\n",
       "      <th>8</th>\n",
       "      <td>2</td>\n",
       "      <td>197</td>\n",
       "      <td>70</td>\n",
       "      <td>45</td>\n",
       "      <td>543</td>\n",
       "      <td>30.500000</td>\n",
       "      <td>0.158</td>\n",
       "      <td>53</td>\n",
       "      <td>1</td>\n",
       "    </tr>\n",
       "    <tr>\n",
       "      <th>9</th>\n",
       "      <td>8</td>\n",
       "      <td>125</td>\n",
       "      <td>96</td>\n",
       "      <td>20</td>\n",
       "      <td>79</td>\n",
       "      <td>31.992578</td>\n",
       "      <td>0.232</td>\n",
       "      <td>54</td>\n",
       "      <td>1</td>\n",
       "    </tr>\n",
       "  </tbody>\n",
       "</table>\n",
       "</div>"
      ],
      "text/plain": [
       "   Pregnancies  Glucose  BloodPressure  SkinThickness  Insulin        BMI  \\\n",
       "0            6      148             72             35       79  33.600000   \n",
       "1            1       85             66             29       79  26.600000   \n",
       "2            8      183             64             20       79  23.300000   \n",
       "3            1       89             66             23       94  28.100000   \n",
       "4            0      137             40             35      168  43.100000   \n",
       "5            5      116             74             20       79  25.600000   \n",
       "6            3       78             50             32       88  31.000000   \n",
       "7           10      115             69             20       79  35.300000   \n",
       "8            2      197             70             45      543  30.500000   \n",
       "9            8      125             96             20       79  31.992578   \n",
       "\n",
       "   DiabetesPedigreeFunction  Age  Outcome  \n",
       "0                     0.627   50        1  \n",
       "1                     0.351   31        0  \n",
       "2                     0.672   32        1  \n",
       "3                     0.167   21        0  \n",
       "4                     2.288   33        1  \n",
       "5                     0.201   30        0  \n",
       "6                     0.248   26        1  \n",
       "7                     0.134   29        0  \n",
       "8                     0.158   53        1  \n",
       "9                     0.232   54        1  "
      ]
     },
     "execution_count": 14,
     "metadata": {},
     "output_type": "execute_result"
    }
   ],
   "source": [
    "Pima.head(10)"
   ]
  },
  {
   "cell_type": "markdown",
   "id": "d70dc5c8-62bd-4405-9690-b74eb0b0c9dc",
   "metadata": {},
   "source": [
    "# Q2. SHOW THE LAST 10 RECORDS OF THE DATASET"
   ]
  },
  {
   "cell_type": "code",
   "execution_count": 15,
   "id": "716ccf98-99c7-4acd-bece-ff7729731177",
   "metadata": {},
   "outputs": [
    {
     "data": {
      "text/html": [
       "<div>\n",
       "<style scoped>\n",
       "    .dataframe tbody tr th:only-of-type {\n",
       "        vertical-align: middle;\n",
       "    }\n",
       "\n",
       "    .dataframe tbody tr th {\n",
       "        vertical-align: top;\n",
       "    }\n",
       "\n",
       "    .dataframe thead th {\n",
       "        text-align: right;\n",
       "    }\n",
       "</style>\n",
       "<table border=\"1\" class=\"dataframe\">\n",
       "  <thead>\n",
       "    <tr style=\"text-align: right;\">\n",
       "      <th></th>\n",
       "      <th>Pregnancies</th>\n",
       "      <th>Glucose</th>\n",
       "      <th>BloodPressure</th>\n",
       "      <th>SkinThickness</th>\n",
       "      <th>Insulin</th>\n",
       "      <th>BMI</th>\n",
       "      <th>DiabetesPedigreeFunction</th>\n",
       "      <th>Age</th>\n",
       "      <th>Outcome</th>\n",
       "    </tr>\n",
       "  </thead>\n",
       "  <tbody>\n",
       "    <tr>\n",
       "      <th>758</th>\n",
       "      <td>1</td>\n",
       "      <td>106</td>\n",
       "      <td>76</td>\n",
       "      <td>20</td>\n",
       "      <td>79</td>\n",
       "      <td>37.5</td>\n",
       "      <td>0.197</td>\n",
       "      <td>26</td>\n",
       "      <td>0</td>\n",
       "    </tr>\n",
       "    <tr>\n",
       "      <th>759</th>\n",
       "      <td>6</td>\n",
       "      <td>190</td>\n",
       "      <td>92</td>\n",
       "      <td>20</td>\n",
       "      <td>79</td>\n",
       "      <td>35.5</td>\n",
       "      <td>0.278</td>\n",
       "      <td>66</td>\n",
       "      <td>1</td>\n",
       "    </tr>\n",
       "    <tr>\n",
       "      <th>760</th>\n",
       "      <td>2</td>\n",
       "      <td>88</td>\n",
       "      <td>58</td>\n",
       "      <td>26</td>\n",
       "      <td>16</td>\n",
       "      <td>28.4</td>\n",
       "      <td>0.766</td>\n",
       "      <td>22</td>\n",
       "      <td>0</td>\n",
       "    </tr>\n",
       "    <tr>\n",
       "      <th>761</th>\n",
       "      <td>9</td>\n",
       "      <td>170</td>\n",
       "      <td>74</td>\n",
       "      <td>31</td>\n",
       "      <td>79</td>\n",
       "      <td>44.0</td>\n",
       "      <td>0.403</td>\n",
       "      <td>43</td>\n",
       "      <td>1</td>\n",
       "    </tr>\n",
       "    <tr>\n",
       "      <th>762</th>\n",
       "      <td>9</td>\n",
       "      <td>89</td>\n",
       "      <td>62</td>\n",
       "      <td>20</td>\n",
       "      <td>79</td>\n",
       "      <td>22.5</td>\n",
       "      <td>0.142</td>\n",
       "      <td>33</td>\n",
       "      <td>0</td>\n",
       "    </tr>\n",
       "    <tr>\n",
       "      <th>763</th>\n",
       "      <td>10</td>\n",
       "      <td>101</td>\n",
       "      <td>76</td>\n",
       "      <td>48</td>\n",
       "      <td>180</td>\n",
       "      <td>32.9</td>\n",
       "      <td>0.171</td>\n",
       "      <td>63</td>\n",
       "      <td>0</td>\n",
       "    </tr>\n",
       "    <tr>\n",
       "      <th>764</th>\n",
       "      <td>2</td>\n",
       "      <td>122</td>\n",
       "      <td>70</td>\n",
       "      <td>27</td>\n",
       "      <td>79</td>\n",
       "      <td>36.8</td>\n",
       "      <td>0.340</td>\n",
       "      <td>27</td>\n",
       "      <td>0</td>\n",
       "    </tr>\n",
       "    <tr>\n",
       "      <th>765</th>\n",
       "      <td>5</td>\n",
       "      <td>121</td>\n",
       "      <td>72</td>\n",
       "      <td>23</td>\n",
       "      <td>112</td>\n",
       "      <td>26.2</td>\n",
       "      <td>0.245</td>\n",
       "      <td>30</td>\n",
       "      <td>0</td>\n",
       "    </tr>\n",
       "    <tr>\n",
       "      <th>766</th>\n",
       "      <td>1</td>\n",
       "      <td>126</td>\n",
       "      <td>60</td>\n",
       "      <td>20</td>\n",
       "      <td>79</td>\n",
       "      <td>30.1</td>\n",
       "      <td>0.349</td>\n",
       "      <td>47</td>\n",
       "      <td>1</td>\n",
       "    </tr>\n",
       "    <tr>\n",
       "      <th>767</th>\n",
       "      <td>1</td>\n",
       "      <td>93</td>\n",
       "      <td>70</td>\n",
       "      <td>31</td>\n",
       "      <td>79</td>\n",
       "      <td>30.4</td>\n",
       "      <td>0.315</td>\n",
       "      <td>23</td>\n",
       "      <td>0</td>\n",
       "    </tr>\n",
       "  </tbody>\n",
       "</table>\n",
       "</div>"
      ],
      "text/plain": [
       "     Pregnancies  Glucose  BloodPressure  SkinThickness  Insulin   BMI  \\\n",
       "758            1      106             76             20       79  37.5   \n",
       "759            6      190             92             20       79  35.5   \n",
       "760            2       88             58             26       16  28.4   \n",
       "761            9      170             74             31       79  44.0   \n",
       "762            9       89             62             20       79  22.5   \n",
       "763           10      101             76             48      180  32.9   \n",
       "764            2      122             70             27       79  36.8   \n",
       "765            5      121             72             23      112  26.2   \n",
       "766            1      126             60             20       79  30.1   \n",
       "767            1       93             70             31       79  30.4   \n",
       "\n",
       "     DiabetesPedigreeFunction  Age  Outcome  \n",
       "758                     0.197   26        0  \n",
       "759                     0.278   66        1  \n",
       "760                     0.766   22        0  \n",
       "761                     0.403   43        1  \n",
       "762                     0.142   33        0  \n",
       "763                     0.171   63        0  \n",
       "764                     0.340   27        0  \n",
       "765                     0.245   30        0  \n",
       "766                     0.349   47        1  \n",
       "767                     0.315   23        0  "
      ]
     },
     "execution_count": 15,
     "metadata": {},
     "output_type": "execute_result"
    }
   ],
   "source": [
    "Pima.tail(10)"
   ]
  },
  {
   "cell_type": "markdown",
   "id": "ba728b3f-3d58-4251-bfdd-ef24ace0281a",
   "metadata": {},
   "source": [
    "# Q3. HOW MANY COLOMNS AND ROWS ARE IN THE DATASET"
   ]
  },
  {
   "cell_type": "markdown",
   "id": "05c0e7a3-dbc3-4461-98e7-986cfa2281c0",
   "metadata": {},
   "source": [
    "print(len(Pima.columns))"
   ]
  },
  {
   "cell_type": "markdown",
   "id": "860f9f67-a5b6-47da-a118-7c849d9486db",
   "metadata": {},
   "source": [
    "# Q4. WHATS THE DIMENSION OF DATASET"
   ]
  },
  {
   "cell_type": "code",
   "execution_count": 21,
   "id": "c49cf333-c119-4aba-8713-36f982e77d95",
   "metadata": {},
   "outputs": [
    {
     "data": {
      "text/plain": [
       "(768, 9)"
      ]
     },
     "execution_count": 21,
     "metadata": {},
     "output_type": "execute_result"
    }
   ],
   "source": [
    "Pima.shape"
   ]
  },
  {
   "cell_type": "markdown",
   "id": "0711b110-b5b2-4586-9b45-3c732af59439",
   "metadata": {},
   "source": [
    "# Q5. WHATS THE SIZE OF THE DATA"
   ]
  },
  {
   "cell_type": "code",
   "execution_count": 22,
   "id": "bc99f39b-31d7-4460-afb2-face1a48649c",
   "metadata": {},
   "outputs": [
    {
     "data": {
      "text/plain": [
       "6912"
      ]
     },
     "execution_count": 22,
     "metadata": {},
     "output_type": "execute_result"
    }
   ],
   "source": [
    "# the size of the data is the rows times the colomns.\n",
    "Pima.size"
   ]
  },
  {
   "cell_type": "markdown",
   "id": "26d4bc5f-cc93-496f-bb57-512555471e62",
   "metadata": {},
   "source": [
    "# Q6. WHAT ARE THE DATA TYPES OF ALL THE VARIABLE IN THE DATA SET?"
   ]
  },
  {
   "cell_type": "code",
   "execution_count": 24,
   "id": "3000ed1c-dd38-4a7b-96a4-6bf17f3a81f8",
   "metadata": {},
   "outputs": [
    {
     "name": "stdout",
     "output_type": "stream",
     "text": [
      "<class 'pandas.core.frame.DataFrame'>\n",
      "RangeIndex: 768 entries, 0 to 767\n",
      "Data columns (total 9 columns):\n",
      " #   Column                    Non-Null Count  Dtype  \n",
      "---  ------                    --------------  -----  \n",
      " 0   Pregnancies               768 non-null    int64  \n",
      " 1   Glucose                   768 non-null    int64  \n",
      " 2   BloodPressure             768 non-null    int64  \n",
      " 3   SkinThickness             768 non-null    int64  \n",
      " 4   Insulin                   768 non-null    int64  \n",
      " 5   BMI                       768 non-null    float64\n",
      " 6   DiabetesPedigreeFunction  768 non-null    float64\n",
      " 7   Age                       768 non-null    int64  \n",
      " 8   Outcome                   768 non-null    int64  \n",
      "dtypes: float64(2), int64(7)\n",
      "memory usage: 54.1 KB\n"
     ]
    }
   ],
   "source": [
    "Pima.info()"
   ]
  },
  {
   "cell_type": "markdown",
   "id": "7fcad76c-c73b-4213-8b95-40d7d425b013",
   "metadata": {},
   "source": [
    "# Q7. WHAT ARE THE MISSING VALUES IN THE DATASET?"
   ]
  },
  {
   "cell_type": "code",
   "execution_count": 26,
   "id": "c78149b8-cf1b-418a-b2e6-8da7eb339a4c",
   "metadata": {},
   "outputs": [
    {
     "data": {
      "text/plain": [
       "False"
      ]
     },
     "execution_count": 26,
     "metadata": {},
     "output_type": "execute_result"
    }
   ],
   "source": [
    "Pima.isnull().values.any()"
   ]
  },
  {
   "cell_type": "markdown",
   "id": "f522aed2-ca66-47c0-beaf-50f59781a06c",
   "metadata": {},
   "source": [
    "# Q8. WHAT DO THE SUMMARY STATISTICS OF THE DATA REPRESENT"
   ]
  },
  {
   "cell_type": "markdown",
   "id": "0742a40e-f324-4ffa-b2d0-302238a0a32b",
   "metadata": {},
   "source": [
    "Pima.iloc[:,0:8].describe()"
   ]
  },
  {
   "cell_type": "code",
   "execution_count": 32,
   "id": "cd9e0f7c-44da-4ef5-95cf-ba68342a0177",
   "metadata": {},
   "outputs": [
    {
     "name": "stdout",
     "output_type": "stream",
     "text": [
      "Pregnancies                 0.901674\n",
      "Glucose                     0.533787\n",
      "BloodPressure               0.174105\n",
      "SkinThickness               1.216464\n",
      "Insulin                     3.284872\n",
      "BMI                         0.601103\n",
      "DiabetesPedigreeFunction    1.919911\n",
      "Age                         1.129597\n",
      "Outcome                     0.635017\n",
      "dtype: float64\n"
     ]
    }
   ],
   "source": [
    "print(Pima.skew())"
   ]
  },
  {
   "cell_type": "markdown",
   "id": "5a26256c-dcad-4466-af76-caf975a549ca",
   "metadata": {},
   "source": [
    "# Q9. PLOT THE DISTRIBUTION PLOT FOR THE VARIABLE\"BLOOD PRESSURE\""
   ]
  },
  {
   "cell_type": "code",
   "execution_count": 34,
   "id": "80df952a-c168-4dd9-974c-d14c3b52ed00",
   "metadata": {},
   "outputs": [
    {
     "data": {
      "image/png": "[encoded data removed]",
      "text/plain": [
       "<Figure size 500x500 with 1 Axes>"
      ]
     },
     "metadata": {},
     "output_type": "display_data"
    }
   ],
   "source": [
    "# We will use seaborn and matplotlib for the visualisation and since its been imported as sns,and plt respectively, that's what we will use\n",
    "# kde is the kernel density estimation \n",
    "sns. displot(Pima[\"BloodPressure\"],kind=\"kde\")\n",
    "plt.show()"
   ]
  },
  {
   "cell_type": "markdown",
   "id": "36fa54f4-3701-4ffa-913e-761b43a964e6",
   "metadata": {},
   "source": [
    "### This tells you that all the patient's blood pressure is normally distributed. Meaning the numbers are cluzstered around the mean.\n",
    "Here, the mode is one."
   ]
  },
  {
   "cell_type": "code",
   "execution_count": 44,
   "id": "e19c95d5-5cf3-4b05-abfb-488415244f9a",
   "metadata": {},
   "outputs": [
    {
     "data": {
      "text/plain": [
       "<Axes: xlabel='BloodPressure', ylabel='Count'>"
      ]
     },
     "execution_count": 44,
     "metadata": {},
     "output_type": "execute_result"
    },
    {
     "data": {
      "image/png": "[encoded data removed]",
      "text/plain": [
       "<Figure size 640x480 with 1 Axes>"
      ]
     },
     "metadata": {},
     "output_type": "display_data"
    }
   ],
   "source": [
    "sns.histplot(data = Pima, x= \"BloodPressure\",kde=True)"
   ]
  },
  {
   "cell_type": "markdown",
   "id": "a37813b3-b877-4c03-a8d6-fa4da89b1839",
   "metadata": {},
   "source": [
    "# Q10. WHAT IS THE BMI OF THE PERSON HAVING THE HIGHEST GLUCOSE?"
   ]
  },
  {
   "cell_type": "code",
   "execution_count": 50,
   "id": "c025abc4-bc50-4817-9148-fbd5e0872334",
   "metadata": {},
   "outputs": [
    {
     "data": {
      "text/plain": [
       "661    42.9\n",
       "Name: BMI, dtype: float64"
      ]
     },
     "execution_count": 50,
     "metadata": {},
     "output_type": "execute_result"
    }
   ],
   "source": [
    "Pima[Pima['Glucose']==Pima['Glucose'].max()]['BMI']"
   ]
  },
  {
   "cell_type": "markdown",
   "id": "b633d992-1d89-463f-a38c-ba943d56616e",
   "metadata": {},
   "source": [
    "# Q11. WHATS THE MODE, MEDIAN, MEAN, KURTOSIS AMD SKEWNESS OF BMI?"
   ]
  },
  {
   "cell_type": "code",
   "execution_count": 66,
   "id": "28cec3b4-31ae-4a90-add8-fd70fbc4ebec",
   "metadata": {},
   "outputs": [
    {
     "name": "stdout",
     "output_type": "stream",
     "text": [
      "32.450805155364584\n",
      "0    32.0\n",
      "Name: BMI, dtype: float64\n",
      "32.0\n",
      "0.9213175059175671\n",
      "0.6011031773404935\n"
     ]
    }
   ],
   "source": [
    "Mean=Pima[\"BMI\"].mean()\n",
    "print(Mean)\n",
    "Mode=Pima[\"BMI\"].mode()\n",
    "print(Mode)\n",
    "Median=Pima[\"BMI\"].median()\n",
    "print(Median)\n",
    "Kurtosis=Pima[\"BMI\"].kurtosis()\n",
    "print(Kurtosis)\n",
    "Skewness=Pima[\"BMI\"].skew()\n",
    "print(Skewness)"
   ]
  },
  {
   "cell_type": "markdown",
   "id": "6d3c1e80-3a9e-4263-a4a5-b56c374899df",
   "metadata": {},
   "source": [
    "# Q12. How many women's 'Glucose' levels are above the mean level of 'Glucose'?"
   ]
  },
  {
   "cell_type": "code",
   "execution_count": 67,
   "id": "79340ad4-a1d3-4c5c-ba5e-92782e3c89ab",
   "metadata": {},
   "outputs": [
    {
     "data": {
      "text/plain": [
       "343"
      ]
     },
     "execution_count": 67,
     "metadata": {},
     "output_type": "execute_result"
    }
   ],
   "source": [
    "Pima[Pima['Glucose']>Pima['Glucose'].mean()].shape[0]"
   ]
  },
  {
   "cell_type": "markdown",
   "id": "0aaa5d76-ae54-48b6-8c7b-cac2de809556",
   "metadata": {},
   "source": [
    "# Q13. How many women have their 'BloodPressure' equal to the median of 'BloodPressure' and their 'BMI' less than the median of 'BMI'?"
   ]
  },
  {
   "cell_type": "code",
   "execution_count": 71,
   "id": "370eac82-09e4-4c94-957e-71d679226905",
   "metadata": {},
   "outputs": [
    {
     "data": {
      "text/html": [
       "<div>\n",
       "<style scoped>\n",
       "    .dataframe tbody tr th:only-of-type {\n",
       "        vertical-align: middle;\n",
       "    }\n",
       "\n",
       "    .dataframe tbody tr th {\n",
       "        vertical-align: top;\n",
       "    }\n",
       "\n",
       "    .dataframe thead th {\n",
       "        text-align: right;\n",
       "    }\n",
       "</style>\n",
       "<table border=\"1\" class=\"dataframe\">\n",
       "  <thead>\n",
       "    <tr style=\"text-align: right;\">\n",
       "      <th></th>\n",
       "      <th>Pregnancies</th>\n",
       "      <th>Glucose</th>\n",
       "      <th>BloodPressure</th>\n",
       "      <th>SkinThickness</th>\n",
       "      <th>Insulin</th>\n",
       "      <th>BMI</th>\n",
       "      <th>DiabetesPedigreeFunction</th>\n",
       "      <th>Age</th>\n",
       "      <th>Outcome</th>\n",
       "    </tr>\n",
       "  </thead>\n",
       "  <tbody>\n",
       "    <tr>\n",
       "      <th>14</th>\n",
       "      <td>5</td>\n",
       "      <td>166</td>\n",
       "      <td>72</td>\n",
       "      <td>19</td>\n",
       "      <td>175</td>\n",
       "      <td>25.8</td>\n",
       "      <td>0.587</td>\n",
       "      <td>51</td>\n",
       "      <td>1</td>\n",
       "    </tr>\n",
       "    <tr>\n",
       "      <th>93</th>\n",
       "      <td>4</td>\n",
       "      <td>134</td>\n",
       "      <td>72</td>\n",
       "      <td>20</td>\n",
       "      <td>79</td>\n",
       "      <td>23.8</td>\n",
       "      <td>0.277</td>\n",
       "      <td>60</td>\n",
       "      <td>1</td>\n",
       "    </tr>\n",
       "    <tr>\n",
       "      <th>103</th>\n",
       "      <td>1</td>\n",
       "      <td>81</td>\n",
       "      <td>72</td>\n",
       "      <td>18</td>\n",
       "      <td>40</td>\n",
       "      <td>26.6</td>\n",
       "      <td>0.283</td>\n",
       "      <td>24</td>\n",
       "      <td>0</td>\n",
       "    </tr>\n",
       "    <tr>\n",
       "      <th>205</th>\n",
       "      <td>5</td>\n",
       "      <td>111</td>\n",
       "      <td>72</td>\n",
       "      <td>28</td>\n",
       "      <td>79</td>\n",
       "      <td>23.9</td>\n",
       "      <td>0.407</td>\n",
       "      <td>27</td>\n",
       "      <td>0</td>\n",
       "    </tr>\n",
       "    <tr>\n",
       "      <th>299</th>\n",
       "      <td>8</td>\n",
       "      <td>112</td>\n",
       "      <td>72</td>\n",
       "      <td>20</td>\n",
       "      <td>79</td>\n",
       "      <td>23.6</td>\n",
       "      <td>0.840</td>\n",
       "      <td>58</td>\n",
       "      <td>0</td>\n",
       "    </tr>\n",
       "    <tr>\n",
       "      <th>325</th>\n",
       "      <td>1</td>\n",
       "      <td>157</td>\n",
       "      <td>72</td>\n",
       "      <td>21</td>\n",
       "      <td>168</td>\n",
       "      <td>25.6</td>\n",
       "      <td>0.123</td>\n",
       "      <td>24</td>\n",
       "      <td>0</td>\n",
       "    </tr>\n",
       "    <tr>\n",
       "      <th>330</th>\n",
       "      <td>8</td>\n",
       "      <td>118</td>\n",
       "      <td>72</td>\n",
       "      <td>19</td>\n",
       "      <td>79</td>\n",
       "      <td>23.1</td>\n",
       "      <td>1.476</td>\n",
       "      <td>46</td>\n",
       "      <td>0</td>\n",
       "    </tr>\n",
       "    <tr>\n",
       "      <th>366</th>\n",
       "      <td>6</td>\n",
       "      <td>124</td>\n",
       "      <td>72</td>\n",
       "      <td>20</td>\n",
       "      <td>79</td>\n",
       "      <td>27.6</td>\n",
       "      <td>0.368</td>\n",
       "      <td>29</td>\n",
       "      <td>1</td>\n",
       "    </tr>\n",
       "    <tr>\n",
       "      <th>380</th>\n",
       "      <td>1</td>\n",
       "      <td>107</td>\n",
       "      <td>72</td>\n",
       "      <td>30</td>\n",
       "      <td>82</td>\n",
       "      <td>30.8</td>\n",
       "      <td>0.821</td>\n",
       "      <td>24</td>\n",
       "      <td>0</td>\n",
       "    </tr>\n",
       "    <tr>\n",
       "      <th>393</th>\n",
       "      <td>4</td>\n",
       "      <td>116</td>\n",
       "      <td>72</td>\n",
       "      <td>12</td>\n",
       "      <td>87</td>\n",
       "      <td>22.1</td>\n",
       "      <td>0.463</td>\n",
       "      <td>37</td>\n",
       "      <td>0</td>\n",
       "    </tr>\n",
       "    <tr>\n",
       "      <th>406</th>\n",
       "      <td>4</td>\n",
       "      <td>115</td>\n",
       "      <td>72</td>\n",
       "      <td>20</td>\n",
       "      <td>79</td>\n",
       "      <td>28.9</td>\n",
       "      <td>0.376</td>\n",
       "      <td>46</td>\n",
       "      <td>1</td>\n",
       "    </tr>\n",
       "    <tr>\n",
       "      <th>446</th>\n",
       "      <td>1</td>\n",
       "      <td>100</td>\n",
       "      <td>72</td>\n",
       "      <td>12</td>\n",
       "      <td>70</td>\n",
       "      <td>25.3</td>\n",
       "      <td>0.658</td>\n",
       "      <td>28</td>\n",
       "      <td>0</td>\n",
       "    </tr>\n",
       "    <tr>\n",
       "      <th>460</th>\n",
       "      <td>9</td>\n",
       "      <td>120</td>\n",
       "      <td>72</td>\n",
       "      <td>22</td>\n",
       "      <td>56</td>\n",
       "      <td>20.8</td>\n",
       "      <td>0.733</td>\n",
       "      <td>48</td>\n",
       "      <td>0</td>\n",
       "    </tr>\n",
       "    <tr>\n",
       "      <th>488</th>\n",
       "      <td>4</td>\n",
       "      <td>99</td>\n",
       "      <td>72</td>\n",
       "      <td>17</td>\n",
       "      <td>79</td>\n",
       "      <td>25.6</td>\n",
       "      <td>0.294</td>\n",
       "      <td>28</td>\n",
       "      <td>0</td>\n",
       "    </tr>\n",
       "    <tr>\n",
       "      <th>497</th>\n",
       "      <td>2</td>\n",
       "      <td>81</td>\n",
       "      <td>72</td>\n",
       "      <td>15</td>\n",
       "      <td>76</td>\n",
       "      <td>30.1</td>\n",
       "      <td>0.547</td>\n",
       "      <td>25</td>\n",
       "      <td>0</td>\n",
       "    </tr>\n",
       "    <tr>\n",
       "      <th>510</th>\n",
       "      <td>12</td>\n",
       "      <td>84</td>\n",
       "      <td>72</td>\n",
       "      <td>31</td>\n",
       "      <td>79</td>\n",
       "      <td>29.7</td>\n",
       "      <td>0.297</td>\n",
       "      <td>46</td>\n",
       "      <td>1</td>\n",
       "    </tr>\n",
       "    <tr>\n",
       "      <th>568</th>\n",
       "      <td>4</td>\n",
       "      <td>154</td>\n",
       "      <td>72</td>\n",
       "      <td>29</td>\n",
       "      <td>126</td>\n",
       "      <td>31.3</td>\n",
       "      <td>0.338</td>\n",
       "      <td>37</td>\n",
       "      <td>0</td>\n",
       "    </tr>\n",
       "    <tr>\n",
       "      <th>615</th>\n",
       "      <td>3</td>\n",
       "      <td>106</td>\n",
       "      <td>72</td>\n",
       "      <td>20</td>\n",
       "      <td>79</td>\n",
       "      <td>25.8</td>\n",
       "      <td>0.207</td>\n",
       "      <td>27</td>\n",
       "      <td>0</td>\n",
       "    </tr>\n",
       "    <tr>\n",
       "      <th>635</th>\n",
       "      <td>13</td>\n",
       "      <td>104</td>\n",
       "      <td>72</td>\n",
       "      <td>20</td>\n",
       "      <td>79</td>\n",
       "      <td>31.2</td>\n",
       "      <td>0.465</td>\n",
       "      <td>38</td>\n",
       "      <td>1</td>\n",
       "    </tr>\n",
       "    <tr>\n",
       "      <th>644</th>\n",
       "      <td>3</td>\n",
       "      <td>103</td>\n",
       "      <td>72</td>\n",
       "      <td>30</td>\n",
       "      <td>152</td>\n",
       "      <td>27.6</td>\n",
       "      <td>0.730</td>\n",
       "      <td>27</td>\n",
       "      <td>0</td>\n",
       "    </tr>\n",
       "    <tr>\n",
       "      <th>717</th>\n",
       "      <td>10</td>\n",
       "      <td>94</td>\n",
       "      <td>72</td>\n",
       "      <td>18</td>\n",
       "      <td>79</td>\n",
       "      <td>23.1</td>\n",
       "      <td>0.595</td>\n",
       "      <td>56</td>\n",
       "      <td>0</td>\n",
       "    </tr>\n",
       "    <tr>\n",
       "      <th>765</th>\n",
       "      <td>5</td>\n",
       "      <td>121</td>\n",
       "      <td>72</td>\n",
       "      <td>23</td>\n",
       "      <td>112</td>\n",
       "      <td>26.2</td>\n",
       "      <td>0.245</td>\n",
       "      <td>30</td>\n",
       "      <td>0</td>\n",
       "    </tr>\n",
       "  </tbody>\n",
       "</table>\n",
       "</div>"
      ],
      "text/plain": [
       "     Pregnancies  Glucose  BloodPressure  SkinThickness  Insulin   BMI  \\\n",
       "14             5      166             72             19      175  25.8   \n",
       "93             4      134             72             20       79  23.8   \n",
       "103            1       81             72             18       40  26.6   \n",
       "205            5      111             72             28       79  23.9   \n",
       "299            8      112             72             20       79  23.6   \n",
       "325            1      157             72             21      168  25.6   \n",
       "330            8      118             72             19       79  23.1   \n",
       "366            6      124             72             20       79  27.6   \n",
       "380            1      107             72             30       82  30.8   \n",
       "393            4      116             72             12       87  22.1   \n",
       "406            4      115             72             20       79  28.9   \n",
       "446            1      100             72             12       70  25.3   \n",
       "460            9      120             72             22       56  20.8   \n",
       "488            4       99             72             17       79  25.6   \n",
       "497            2       81             72             15       76  30.1   \n",
       "510           12       84             72             31       79  29.7   \n",
       "568            4      154             72             29      126  31.3   \n",
       "615            3      106             72             20       79  25.8   \n",
       "635           13      104             72             20       79  31.2   \n",
       "644            3      103             72             30      152  27.6   \n",
       "717           10       94             72             18       79  23.1   \n",
       "765            5      121             72             23      112  26.2   \n",
       "\n",
       "     DiabetesPedigreeFunction  Age  Outcome  \n",
       "14                      0.587   51        1  \n",
       "93                      0.277   60        1  \n",
       "103                     0.283   24        0  \n",
       "205                     0.407   27        0  \n",
       "299                     0.840   58        0  \n",
       "325                     0.123   24        0  \n",
       "330                     1.476   46        0  \n",
       "366                     0.368   29        1  \n",
       "380                     0.821   24        0  \n",
       "393                     0.463   37        0  \n",
       "406                     0.376   46        1  \n",
       "446                     0.658   28        0  \n",
       "460                     0.733   48        0  \n",
       "488                     0.294   28        0  \n",
       "497                     0.547   25        0  \n",
       "510                     0.297   46        1  \n",
       "568                     0.338   37        0  \n",
       "615                     0.207   27        0  \n",
       "635                     0.465   38        1  \n",
       "644                     0.730   27        0  \n",
       "717                     0.595   56        0  \n",
       "765                     0.245   30        0  "
      ]
     },
     "execution_count": 71,
     "metadata": {},
     "output_type": "execute_result"
    }
   ],
   "source": [
    "Pima[(Pima[\"BloodPressure\"]==Pima[\"BloodPressure\"].median()) & (Pima[\"BMI\"]<Pima[\"BMI\"].median())] "
   ]
  },
  {
   "cell_type": "code",
   "execution_count": 72,
   "id": "de9d4b11-20b1-4b0a-b9fa-9ba3b080626c",
   "metadata": {},
   "outputs": [
    {
     "data": {
      "text/plain": [
       "22"
      ]
     },
     "execution_count": 72,
     "metadata": {},
     "output_type": "execute_result"
    }
   ],
   "source": [
    "Pima[(Pima[\"BloodPressure\"]==Pima[\"BloodPressure\"].median()) & (Pima[\"BMI\"]<Pima[\"BMI\"].median())].shape[0]"
   ]
  },
  {
   "cell_type": "code",
   "execution_count": null,
   "id": "6fa6c817-e6a8-4824-9631-3da6707f49bc",
   "metadata": {},
   "outputs": [],
   "source": []
  }
 ],
 "metadata": {
  "kernelspec": {
   "display_name": "Python 3 (ipykernel)",
   "language": "python",
   "name": "python3"
  },
  "language_info": {
   "codemirror_mode": {
    "name": "ipython",
    "version": 3
   },
   "file_extension": ".py",
   "mimetype": "text/x-python",
   "name": "python",
   "nbconvert_exporter": "python",
   "pygments_lexer": "ipython3",
   "version": "3.12.4"
  }
 },
 "nbformat": 4,
 "nbformat_minor": 5
}
